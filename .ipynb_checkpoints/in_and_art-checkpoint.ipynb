{
 "cells": [
  {
   "cell_type": "code",
   "execution_count": 1,
   "metadata": {},
   "outputs": [],
   "source": [
    "#!/usr/bin/env python3\n",
    "from urllib.parse import urlparse\n",
    "import urllib.request, tqdm, csv\n",
    "from bs4 import BeautifulSoup\n",
    "\n",
    "def get_job_link(company):\n",
    "    \n",
    "    url = 'https://jp.indeed.com/m/jobs?q='+ company\n",
    "    \n",
    "    # 日本語URLでめちゃくちゃハマった\n",
    "    p = urlparse(url)\n",
    "    query = urllib.parse.quote_plus(p.query, safe='=&')\n",
    "    url = '{}://{}{}{}{}{}{}{}{}'.format(\n",
    "        p.scheme, p.netloc, p.path,\n",
    "        ';' if p.params else '', p.params,\n",
    "        '?' if p.query else '', query,\n",
    "        '#' if p.fragment else '', p.fragment)\n",
    "    \n",
    "    ua = 'Mozilla/5.0 (iPhone; U; CPU like Mac OS X; en) AppleWebKit/420+ (KHTML, like Gecko) Version/3.0 Mobile/1A543a Safari/419.3'\n",
    "    req = urllib.request.Request(url, headers={'User-Agent': ua})\n",
    "    html = urllib.request.urlopen(req)\n",
    "    soup = BeautifulSoup(html, \"html.parser\")\n",
    "\n",
    "    jobindex = soup.find('div', attrs={'class': 'results'})\n",
    "    jobs = jobindex.find_all('a')\n",
    "\n",
    "    job_link = []\n",
    "    limit = 1\n",
    "\n",
    "    for job in jobs:\n",
    "        if 'sponsoredJob' not in job.attrs['class']:\n",
    "            job_link.append(job['href'])\n",
    "            limit += 1\n",
    "        if limit > 20:\n",
    "            break\n",
    "    \n",
    "    return job_link"
   ]
  },
  {
   "cell_type": "markdown",
   "metadata": {},
   "source": [
    "### 日本語URLでハマった時に参照した記事\n",
    "http://qiita.com/mix/items/87d094414e46f857de45"
   ]
  },
  {
   "cell_type": "code",
   "execution_count": 2,
   "metadata": {},
   "outputs": [],
   "source": [
    "company_name = ['A','B','C','D','E']\n",
    "link_data = {}\n",
    "\n",
    "for i in company_name:\n",
    "    job_link = get_job_link(i)\n",
    "    link_data.update({i:job_link})"
   ]
  },
  {
   "cell_type": "code",
   "execution_count": 3,
   "metadata": {},
   "outputs": [
    {
     "name": "stderr",
     "output_type": "stream",
     "text": [
      "100%|██████████| 20/20 [00:10<00:00,  1.77it/s]\n",
      "100%|██████████| 20/20 [00:10<00:00,  1.87it/s]\n",
      "100%|██████████| 20/20 [00:10<00:00,  1.92it/s]\n",
      "100%|██████████| 20/20 [00:10<00:00,  1.87it/s]\n",
      "100%|██████████| 20/20 [00:17<00:00,  1.11it/s]\n"
     ]
    }
   ],
   "source": [
    "for k in link_data.keys(): \n",
    "    for v in tqdm.tqdm(link_data[k]):\n",
    "        content_url = 'https://jp.indeed.com/m/viewjob?jk=' + v[2:]\n",
    "        \n",
    "        ua = 'Mozilla/5.0 (iPhone; U; CPU like Mac OS X; en) AppleWebKit/420+ (KHTML, like Gecko) Version/3.0 Mobile/1A543a Safari/419.3'\n",
    "        req = urllib.request.Request(content_url, headers={'User-Agent': ua})\n",
    "        html = urllib.request.urlopen(req)\n",
    "        soup = BeautifulSoup(html, \"html.parser\")\n",
    "\n",
    "        jobcontent = soup.find('div', attrs={'class': 'job'})\n",
    "        jobcontent_text = jobcontent.get_text().replace('\\n','')\n",
    "        jobcontent_text\n",
    "        \n",
    "        # 書き出し\n",
    "        f = open('content.csv', 'a')\n",
    "        writer = csv.writer(f, lineterminator='\\n')\n",
    "\n",
    "        csvlist = []\n",
    "        csvlist.append(k)\n",
    "        csvlist.append(jobcontent_text)\n",
    "\n",
    "        writer.writerow(csvlist)\n",
    "\n",
    "        f.close()"
   ]
  },
  {
   "cell_type": "markdown",
   "metadata": {},
   "source": [
    "## A3RTのProofreading APIに投入"
   ]
  },
  {
   "cell_type": "code",
   "execution_count": 6,
   "metadata": {
    "collapsed": true
   },
   "outputs": [],
   "source": [
    "import pandas as pd\n",
    "import requests, json, numpy\n",
    "\n",
    "df = pd.read_csv('content.csv', header=None, names=('メディア','本文'))"
   ]
  },
  {
   "cell_type": "code",
   "execution_count": 7,
   "metadata": {},
   "outputs": [
    {
     "name": "stderr",
     "output_type": "stream",
     "text": [
      "\n",
      "0it [00:00, ?it/s]\u001b[A\n",
      "/Users/matsuzakiyousuke/anaconda/lib/python3.6/site-packages/ipykernel_launcher.py:12: SettingWithCopyWarning: \n",
      "A value is trying to be set on a copy of a slice from a DataFrame\n",
      "\n",
      "See the caveats in the documentation: http://pandas.pydata.org/pandas-docs/stable/indexing.html#indexing-view-versus-copy\n",
      "  if sys.path[0] == '':\n",
      "100it [07:39,  4.54s/it]\n"
     ]
    }
   ],
   "source": [
    "df['アラート'] = numpy.NAN\n",
    "\n",
    "for sentence, num in tqdm.tqdm(zip(df['本文'], range(len(df['本文'])))):\n",
    "\n",
    "    api_key= '9mqNpbxMuO8xoTKSM8rCUhkx4XkvwRRA'\n",
    "    api_url = 'https://api.a3rt.recruit-tech.co.jp/proofreading/v1/typo?apikey={}&sentence={}'.format(api_key, sentence[:500])\n",
    "    res = requests.get(api_url)\n",
    "\n",
    "    content_json = json.loads(res.text)\n",
    "    \n",
    "    try:\n",
    "        df['アラート'][num] = len(content_json['alerts'])\n",
    "    except KeyError:\n",
    "        pass"
   ]
  },
  {
   "cell_type": "code",
   "execution_count": 8,
   "metadata": {},
   "outputs": [
    {
     "data": {
      "text/html": [
       "<div>\n",
       "<style>\n",
       "    .dataframe thead tr:only-child th {\n",
       "        text-align: right;\n",
       "    }\n",
       "\n",
       "    .dataframe thead th {\n",
       "        text-align: left;\n",
       "    }\n",
       "\n",
       "    .dataframe tbody tr th {\n",
       "        vertical-align: top;\n",
       "    }\n",
       "</style>\n",
       "<table border=\"1\" class=\"dataframe\">\n",
       "  <thead>\n",
       "    <tr style=\"text-align: right;\">\n",
       "      <th></th>\n",
       "      <th>アラート</th>\n",
       "    </tr>\n",
       "  </thead>\n",
       "  <tbody>\n",
       "    <tr>\n",
       "      <th>count</th>\n",
       "      <td>99.000000</td>\n",
       "    </tr>\n",
       "    <tr>\n",
       "      <th>mean</th>\n",
       "      <td>16.848485</td>\n",
       "    </tr>\n",
       "    <tr>\n",
       "      <th>std</th>\n",
       "      <td>7.559780</td>\n",
       "    </tr>\n",
       "    <tr>\n",
       "      <th>min</th>\n",
       "      <td>5.000000</td>\n",
       "    </tr>\n",
       "    <tr>\n",
       "      <th>25%</th>\n",
       "      <td>11.500000</td>\n",
       "    </tr>\n",
       "    <tr>\n",
       "      <th>50%</th>\n",
       "      <td>15.000000</td>\n",
       "    </tr>\n",
       "    <tr>\n",
       "      <th>75%</th>\n",
       "      <td>21.000000</td>\n",
       "    </tr>\n",
       "    <tr>\n",
       "      <th>max</th>\n",
       "      <td>42.000000</td>\n",
       "    </tr>\n",
       "  </tbody>\n",
       "</table>\n",
       "</div>"
      ],
      "text/plain": [
       "            アラート\n",
       "count  99.000000\n",
       "mean   16.848485\n",
       "std     7.559780\n",
       "min     5.000000\n",
       "25%    11.500000\n",
       "50%    15.000000\n",
       "75%    21.000000\n",
       "max    42.000000"
      ]
     },
     "execution_count": 8,
     "metadata": {},
     "output_type": "execute_result"
    }
   ],
   "source": [
    "df.describe()"
   ]
  },
  {
   "cell_type": "code",
   "execution_count": 20,
   "metadata": {},
   "outputs": [],
   "source": [
    "df.to_csv('alert.csv', index=False)"
   ]
  },
  {
   "cell_type": "code",
   "execution_count": 21,
   "metadata": {},
   "outputs": [
    {
     "data": {
      "text/plain": [
       "メディア\n",
       "A    18.350000\n",
       "B    11.800000\n",
       "C    15.750000\n",
       "D    17.947368\n",
       "E    20.450000\n",
       "Name: アラート, dtype: float64"
      ]
     },
     "execution_count": 21,
     "metadata": {},
     "output_type": "execute_result"
    }
   ],
   "source": [
    "df['アラート'].groupby(df['メディア']).mean()"
   ]
  },
  {
   "cell_type": "code",
   "execution_count": 23,
   "metadata": {},
   "outputs": [
    {
     "data": {
      "text/html": [
       "<div>\n",
       "<style>\n",
       "    .dataframe thead tr:only-child th {\n",
       "        text-align: right;\n",
       "    }\n",
       "\n",
       "    .dataframe thead th {\n",
       "        text-align: left;\n",
       "    }\n",
       "\n",
       "    .dataframe tbody tr th {\n",
       "        vertical-align: top;\n",
       "    }\n",
       "</style>\n",
       "<table border=\"1\" class=\"dataframe\">\n",
       "  <thead>\n",
       "    <tr style=\"text-align: right;\">\n",
       "      <th></th>\n",
       "      <th>メディア</th>\n",
       "      <th>本文</th>\n",
       "      <th>アラート</th>\n",
       "    </tr>\n",
       "  </thead>\n",
       "  <tbody>\n",
       "    <tr>\n",
       "      <th>0</th>\n",
       "      <td>A</td>\n",
       "      <td>求人内容</td>\n",
       "      <td>21.0</td>\n",
       "    </tr>\n",
       "    <tr>\n",
       "      <th>1</th>\n",
       "      <td>A</td>\n",
       "      <td>求人内容</td>\n",
       "      <td>17.0</td>\n",
       "    </tr>\n",
       "    <tr>\n",
       "      <th>2</th>\n",
       "      <td>A</td>\n",
       "      <td>求人内容</td>\n",
       "      <td>12.0</td>\n",
       "    </tr>\n",
       "    <tr>\n",
       "      <th>3</th>\n",
       "      <td>A</td>\n",
       "      <td>求人内容</td>\n",
       "      <td>13.0</td>\n",
       "    </tr>\n",
       "    <tr>\n",
       "      <th>4</th>\n",
       "      <td>A</td>\n",
       "      <td>求人内容</td>\n",
       "      <td>19.0</td>\n",
       "    </tr>\n",
       "  </tbody>\n",
       "</table>\n",
       "</div>"
      ],
      "text/plain": [
       "  メディア    本文  アラート\n",
       "0    A  求人内容  21.0\n",
       "1    A  求人内容  17.0\n",
       "2    A  求人内容  12.0\n",
       "3    A  求人内容  13.0\n",
       "4    A  求人内容  19.0"
      ]
     },
     "execution_count": 23,
     "metadata": {},
     "output_type": "execute_result"
    }
   ],
   "source": [
    "df.head()"
   ]
  },
  {
   "cell_type": "code",
   "execution_count": 28,
   "metadata": {},
   "outputs": [
    {
     "data": {
      "text/plain": [
       "<matplotlib.text.Text at 0x1164c7e10>"
      ]
     },
     "execution_count": 28,
     "metadata": {},
     "output_type": "execute_result"
    },
    {
     "data": {
      "image/png": "[encoded data removed]",
      "text/plain": [
       "<matplotlib.figure.Figure at 0x1165e3c18>"
      ]
     },
     "metadata": {},
     "output_type": "display_data"
    }
   ],
   "source": [
    "%matplotlib inline\n",
    "import matplotlib.pyplot as plt\n",
    "\n",
    "df['アラート'].groupby(df['メディア']).mean().plot(kind='bar')\n",
    "plt.title('job content alert')\n",
    "plt.xlabel('media')"
   ]
  }
 ],
 "metadata": {
  "kernelspec": {
   "display_name": "Python 3",
   "language": "python",
   "name": "python3"
  },
  "language_info": {
   "codemirror_mode": {
    "name": "ipython",
    "version": 3
   },
   "file_extension": ".py",
   "mimetype": "text/x-python",
   "name": "python",
   "nbconvert_exporter": "python",
   "pygments_lexer": "ipython3",
   "version": "3.6.1"
  }
 },
 "nbformat": 4,
 "nbformat_minor": 2
}
